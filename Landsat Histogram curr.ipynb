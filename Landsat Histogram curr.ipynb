{
 "cells": [
  {
   "cell_type": "markdown",
   "id": "0e646787",
   "metadata": {},
   "source": [
    "**********************************************************************************************\n",
    "# Creating Histograms of Landsat Images\n",
    "Goal: The goal of this code is to create histograms from the raster values in Landsat images.\n",
    "**********************************************************************************************"
   ]
  },
  {
   "cell_type": "markdown",
   "id": "41d42c5a",
   "metadata": {},
   "source": [
    "## Import Modules"
   ]
  },
  {
   "cell_type": "code",
   "execution_count": 1,
   "id": "834cbd50",
   "metadata": {},
   "outputs": [],
   "source": [
    "import sys, os, glob\n",
    "import numpy as np\n",
    "from osgeo import gdal, gdalnumeric, ogr, osr\n",
    "import matplotlib\n",
    "import matplotlib.pyplot as plt"
   ]
  },
  {
   "cell_type": "markdown",
   "id": "b7394c2b",
   "metadata": {},
   "source": [
    "## Read in the composite landsat image\n",
    "Read in the Landsat image"
   ]
  },
  {
   "cell_type": "code",
   "execution_count": 2,
   "id": "f47d3b2a",
   "metadata": {},
   "outputs": [
    {
     "data": {
      "text/plain": [
       "osgeo.gdal.Dataset"
      ]
     },
     "execution_count": 2,
     "metadata": {},
     "output_type": "execute_result"
    }
   ],
   "source": [
    "# Input the file path\n",
    "filepath = r\"C:\\Users\\19282\\OneDrive\\Documents\\SSAI\\Landsat\\LC08_L1TP_052014_20180727_20180731_01_T1\\LC08_L1TP_052014_20180727_20180731_01_T1.TIF\"\n",
    "\n",
    "# Open the file\n",
    "raster = gdal.Open(filepath)\n",
    "\n",
    "# Check type of the variable 'raster'\n",
    "type(raster)"
   ]
  },
  {
   "cell_type": "markdown",
   "id": "366fc6a4",
   "metadata": {},
   "source": [
    "Read raster file properties"
   ]
  },
  {
   "cell_type": "code",
   "execution_count": 3,
   "id": "e74a7145",
   "metadata": {},
   "outputs": [
    {
     "data": {
      "text/plain": [
       "11"
      ]
     },
     "execution_count": 3,
     "metadata": {},
     "output_type": "execute_result"
    }
   ],
   "source": [
    "# Projection\n",
    "raster.GetProjection()\n",
    "\n",
    "# Dimensions\n",
    "raster.RasterXSize\n",
    "raster.RasterYSize\n",
    "\n",
    "# Number of Bands\n",
    "raster.RasterCount"
   ]
  },
  {
   "cell_type": "markdown",
   "id": "a6d0c762",
   "metadata": {},
   "source": [
    "## Delineate the raster file into bands and convert to numpy arrays"
   ]
  },
  {
   "cell_type": "code",
   "execution_count": 4,
   "id": "3267f67c",
   "metadata": {},
   "outputs": [
    {
     "name": "stdout",
     "output_type": "stream",
     "text": [
      "[[nan nan nan ... nan nan nan]\n",
      " [nan nan nan ... nan nan nan]\n",
      " [nan nan nan ... nan nan nan]\n",
      " ...\n",
      " [nan nan nan ... nan nan nan]\n",
      " [nan nan nan ... nan nan nan]\n",
      " [nan nan nan ... nan nan nan]]\n"
     ]
    }
   ],
   "source": [
    "# for loop to assign the bands to a dictionary and change them into arrays\n",
    "d = {}\n",
    "for i in range(1,12):\n",
    "    d[\"band\" + str(i)] = raster.GetRasterBand(i)\n",
    "    d[\"band\" + str(i)] = d[\"band\" + str(i)].ReadAsArray()\n",
    "\n",
    "print(d[\"band3\"])"
   ]
  },
  {
   "cell_type": "code",
   "execution_count": 5,
   "id": "6e20be9c",
   "metadata": {},
   "outputs": [
    {
     "data": {
      "text/plain": [
       "(8281, 8221)"
      ]
     },
     "execution_count": 5,
     "metadata": {},
     "output_type": "execute_result"
    }
   ],
   "source": [
    "# Testing process out of a loop\n",
    "band1 = raster.GetRasterBand(1)\n",
    "band1 = band1.ReadAsArray()\n",
    "band1.shape"
   ]
  },
  {
   "cell_type": "markdown",
   "id": "f474ab29",
   "metadata": {},
   "source": [
    "## Create the Histogram"
   ]
  },
  {
   "cell_type": "code",
   "execution_count": 6,
   "id": "d0db1e26",
   "metadata": {},
   "outputs": [
    {
     "name": "stderr",
     "output_type": "stream",
     "text": [
      "C:\\Users\\19282\\anaconda3\\envs\\sentinel\\lib\\site-packages\\matplotlib\\axes\\_axes.py:6731: RuntimeWarning: All-NaN slice encountered\n",
      "  xmin = min(xmin, np.nanmin(xi))\n",
      "C:\\Users\\19282\\anaconda3\\envs\\sentinel\\lib\\site-packages\\matplotlib\\axes\\_axes.py:6732: RuntimeWarning: All-NaN slice encountered\n",
      "  xmax = max(xmax, np.nanmax(xi))\n"
     ]
    },
    {
     "data": {
      "text/plain": [
       "(array([[0., 0., 0., ..., 0., 0., 0.],\n",
       "        [0., 0., 0., ..., 0., 0., 0.],\n",
       "        [0., 0., 0., ..., 0., 0., 0.],\n",
       "        ...,\n",
       "        [0., 0., 0., ..., 0., 0., 0.],\n",
       "        [0., 0., 0., ..., 0., 0., 0.],\n",
       "        [0., 0., 0., ..., 0., 0., 0.]]),\n",
       " array([0.10177993, 0.20790261, 0.31402528, 0.42014796, 0.5262706 ,\n",
       "        0.6323933 , 0.738516  , 0.84463865, 0.9507613 , 1.0568839 ,\n",
       "        1.1630067 ], dtype=float32),\n",
       " <a list of 8221 BarContainer objects>)"
      ]
     },
     "execution_count": 6,
     "metadata": {},
     "output_type": "execute_result"
    },
    {
     "data": {
      "image/png": "[encoded data removed]",
      "text/plain": [
       "<Figure size 432x288 with 1 Axes>"
      ]
     },
     "metadata": {
      "needs_background": "light"
     },
     "output_type": "display_data"
    }
   ],
   "source": [
    "# Testing process out of loop\n",
    "\n",
    "#plt.title(\"Band1\")\n",
    "plt.hist(band1)\n",
    "#plt.savefig(\"histogram_band1\")"
   ]
  },
  {
   "cell_type": "code",
   "execution_count": null,
   "id": "fc931ceb",
   "metadata": {},
   "outputs": [],
   "source": []
  }
 ],
 "metadata": {
  "kernelspec": {
   "display_name": "sentinel",
   "language": "python",
   "name": "sentinel"
  },
  "language_info": {
   "codemirror_mode": {
    "name": "ipython",
    "version": 3
   },
   "file_extension": ".py",
   "mimetype": "text/x-python",
   "name": "python",
   "nbconvert_exporter": "python",
   "pygments_lexer": "ipython3",
   "version": "3.8.13"
  }
 },
 "nbformat": 4,
 "nbformat_minor": 5
}
